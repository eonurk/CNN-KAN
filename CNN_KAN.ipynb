{
  "nbformat": 4,
  "nbformat_minor": 0,
  "metadata": {
    "colab": {
      "provenance": [],
      "gpuType": "T4",
      "authorship_tag": "ABX9TyNyFc4RHvt+sEAleOU+6PIT",
      "include_colab_link": true
    },
    "kernelspec": {
      "name": "python3",
      "display_name": "Python 3"
    },
    "language_info": {
      "name": "python"
    },
    "accelerator": "GPU"
  },
  "cells": [
    {
      "cell_type": "markdown",
      "metadata": {
        "id": "view-in-github",
        "colab_type": "text"
      },
      "source": [
        "<a href=\"https://colab.research.google.com/github/eonurk/CNN-KAN/blob/main/CNN_KAN.ipynb\" target=\"_parent\"><img src=\"https://colab.research.google.com/assets/colab-badge.svg\" alt=\"Open In Colab\"/></a>"
      ]
    },
    {
      "cell_type": "code",
      "execution_count": 1,
      "metadata": {
        "colab": {
          "base_uri": "https://localhost:8080/"
        },
        "id": "QaUPxiJleN-D",
        "outputId": "bafb86c5-214a-40a0-c253-de1aad2da1ac"
      },
      "outputs": [
        {
          "output_type": "stream",
          "name": "stdout",
          "text": [
            "Downloading http://yann.lecun.com/exdb/mnist/train-images-idx3-ubyte.gz\n",
            "Failed to download (trying next):\n",
            "HTTP Error 403: Forbidden\n",
            "\n",
            "Downloading https://ossci-datasets.s3.amazonaws.com/mnist/train-images-idx3-ubyte.gz\n",
            "Downloading https://ossci-datasets.s3.amazonaws.com/mnist/train-images-idx3-ubyte.gz to ./data/MNIST/raw/train-images-idx3-ubyte.gz\n"
          ]
        },
        {
          "output_type": "stream",
          "name": "stderr",
          "text": [
            "100%|██████████| 9912422/9912422 [00:01<00:00, 5106816.47it/s]\n"
          ]
        },
        {
          "output_type": "stream",
          "name": "stdout",
          "text": [
            "Extracting ./data/MNIST/raw/train-images-idx3-ubyte.gz to ./data/MNIST/raw\n",
            "\n",
            "Downloading http://yann.lecun.com/exdb/mnist/train-labels-idx1-ubyte.gz\n",
            "Failed to download (trying next):\n",
            "HTTP Error 403: Forbidden\n",
            "\n",
            "Downloading https://ossci-datasets.s3.amazonaws.com/mnist/train-labels-idx1-ubyte.gz\n",
            "Downloading https://ossci-datasets.s3.amazonaws.com/mnist/train-labels-idx1-ubyte.gz to ./data/MNIST/raw/train-labels-idx1-ubyte.gz\n"
          ]
        },
        {
          "output_type": "stream",
          "name": "stderr",
          "text": [
            "100%|██████████| 28881/28881 [00:00<00:00, 132431.14it/s]\n"
          ]
        },
        {
          "output_type": "stream",
          "name": "stdout",
          "text": [
            "Extracting ./data/MNIST/raw/train-labels-idx1-ubyte.gz to ./data/MNIST/raw\n",
            "\n",
            "Downloading http://yann.lecun.com/exdb/mnist/t10k-images-idx3-ubyte.gz\n",
            "Failed to download (trying next):\n",
            "HTTP Error 403: Forbidden\n",
            "\n",
            "Downloading https://ossci-datasets.s3.amazonaws.com/mnist/t10k-images-idx3-ubyte.gz\n",
            "Downloading https://ossci-datasets.s3.amazonaws.com/mnist/t10k-images-idx3-ubyte.gz to ./data/MNIST/raw/t10k-images-idx3-ubyte.gz\n"
          ]
        },
        {
          "output_type": "stream",
          "name": "stderr",
          "text": [
            "100%|██████████| 1648877/1648877 [00:05<00:00, 283118.92it/s]\n"
          ]
        },
        {
          "output_type": "stream",
          "name": "stdout",
          "text": [
            "Extracting ./data/MNIST/raw/t10k-images-idx3-ubyte.gz to ./data/MNIST/raw\n",
            "\n",
            "Downloading http://yann.lecun.com/exdb/mnist/t10k-labels-idx1-ubyte.gz\n",
            "Failed to download (trying next):\n",
            "HTTP Error 403: Forbidden\n",
            "\n",
            "Downloading https://ossci-datasets.s3.amazonaws.com/mnist/t10k-labels-idx1-ubyte.gz\n",
            "Downloading https://ossci-datasets.s3.amazonaws.com/mnist/t10k-labels-idx1-ubyte.gz to ./data/MNIST/raw/t10k-labels-idx1-ubyte.gz\n"
          ]
        },
        {
          "output_type": "stream",
          "name": "stderr",
          "text": [
            "100%|██████████| 4542/4542 [00:00<00:00, 4198926.33it/s]\n"
          ]
        },
        {
          "output_type": "stream",
          "name": "stdout",
          "text": [
            "Extracting ./data/MNIST/raw/t10k-labels-idx1-ubyte.gz to ./data/MNIST/raw\n",
            "\n",
            "Train Epoch: 0 [0/6000 (0%)]\tLoss: 1.662824\n",
            "Train Epoch: 0 [640/6000 (11%)]\tLoss: 0.500479\n",
            "Train Epoch: 0 [1280/6000 (21%)]\tLoss: 0.287909\n",
            "Train Epoch: 0 [1920/6000 (32%)]\tLoss: 0.221105\n",
            "Train Epoch: 0 [2560/6000 (43%)]\tLoss: 0.107704\n",
            "Train Epoch: 0 [3200/6000 (53%)]\tLoss: 0.146229\n",
            "Train Epoch: 0 [3840/6000 (64%)]\tLoss: 0.077108\n",
            "Train Epoch: 0 [4480/6000 (74%)]\tLoss: 0.157832\n",
            "Train Epoch: 0 [5120/6000 (85%)]\tLoss: 0.075530\n",
            "Train Epoch: 0 [5760/6000 (96%)]\tLoss: 0.064992\n",
            "\n",
            "Test set: Average loss: 0.0007, Accuracy: 9620/10000 (96%)\n",
            "\n"
          ]
        }
      ],
      "source": [
        "import torch\n",
        "import torch.nn as nn\n",
        "import torch.optim as optim\n",
        "from torchvision import datasets, transforms\n",
        "from torch.utils.data import DataLoader, Subset\n",
        "import numpy as np\n",
        "import torch.nn.functional as F\n",
        "\n",
        "# NaiveFourierKANLayer definition (as previously discussed)\n",
        "class NaiveFourierKANLayer(nn.Module):\n",
        "    def __init__(self, inputdim, outdim, initial_gridsize, addbias=True):\n",
        "        super(NaiveFourierKANLayer, self).__init__()\n",
        "        self.addbias = addbias\n",
        "        self.inputdim = inputdim\n",
        "        self.outdim = outdim\n",
        "        self.gridsize_param = nn.Parameter(torch.tensor(initial_gridsize, dtype=torch.float32))\n",
        "        self.fouriercoeffs = nn.Parameter(torch.empty(2, outdim, inputdim, initial_gridsize))\n",
        "        nn.init.xavier_uniform_(self.fouriercoeffs)\n",
        "        if self.addbias:\n",
        "            self.bias = nn.Parameter(torch.zeros(1, outdim))\n",
        "\n",
        "    def forward(self, x):\n",
        "        gridsize = torch.clamp(self.gridsize_param, min=1).round().int()\n",
        "        outshape = x.shape[:-1] + (self.outdim,)\n",
        "        x = torch.reshape(x, (-1, self.inputdim))\n",
        "        k = torch.reshape(torch.arange(1, gridsize + 1, device=x.device), (1, 1, 1, gridsize))\n",
        "        xrshp = torch.reshape(x, (x.shape[0], 1, x.shape[1], 1))\n",
        "        c = torch.cos(k * xrshp)\n",
        "        s = torch.sin(k * xrshp)\n",
        "        y = torch.sum(c * self.fouriercoeffs[0:1, :, :, :gridsize], (-2, -1))\n",
        "        y += torch.sum(s * self.fouriercoeffs[1:2, :, :, :gridsize], (-2, -1))\n",
        "        if self.addbias:\n",
        "            y += self.bias\n",
        "        y = torch.reshape(y, outshape)\n",
        "        return y\n",
        "\n",
        "# CNNFourierKAN model definition\n",
        "class CNNFourierKAN(nn.Module):\n",
        "    def __init__(self):\n",
        "        super(CNNFourierKAN, self).__init__()\n",
        "        self.conv1 = nn.Conv2d(1, 16, kernel_size=3, padding=1)\n",
        "        self.pool1 = nn.MaxPool2d(2)\n",
        "        self.conv2 = nn.Conv2d(16, 32, kernel_size=3, padding=1)\n",
        "        self.pool2 = nn.MaxPool2d(2)\n",
        "        self.fourierkan1 = NaiveFourierKANLayer(32*7*7, 128, initial_gridsize=100)\n",
        "        self.fourierkan2 = NaiveFourierKANLayer(128, 10, initial_gridsize=100)\n",
        "\n",
        "    def forward(self, x):\n",
        "        x = F.selu(self.conv1(x))\n",
        "        x = self.pool1(x)\n",
        "        x = F.selu(self.conv2(x))\n",
        "        x = self.pool2(x)\n",
        "        x = x.view(x.size(0), -1)\n",
        "        x = self.fourierkan1(x)\n",
        "        x = self.fourierkan2(x)\n",
        "        return x\n",
        "\n",
        "# Dataset and DataLoader setup\n",
        "transform = transforms.Compose([\n",
        "    transforms.ToTensor(),\n",
        "    transforms.Normalize((0.1307,), (0.3081,))\n",
        "])\n",
        "train_dataset = datasets.MNIST(root='./data', train=True, download=True, transform=transform)\n",
        "test_dataset = datasets.MNIST(root='./data', train=False, transform=transform)\n",
        "subset_indices = np.random.choice(len(train_dataset), int(len(train_dataset) * 0.1), replace=False)\n",
        "train_subset = Subset(train_dataset, subset_indices)\n",
        "train_loader = DataLoader(train_subset, batch_size=64, shuffle=True)\n",
        "test_loader = DataLoader(test_dataset, batch_size=256, shuffle=False)\n",
        "\n",
        "# Model, Optimizer and Device setup\n",
        "device = torch.device(\"cuda\" if torch.cuda.is_available() else \"cpu\")\n",
        "model = CNNFourierKAN().to(device)\n",
        "optimizer = optim.LBFGS(model.parameters(), lr=0.01)\n",
        "\n",
        "# Training function\n",
        "def train(model, device, train_loader, optimizer, epoch):\n",
        "    model.train()\n",
        "    for batch_idx, (data, target) in enumerate(train_loader):\n",
        "        def closure():\n",
        "            optimizer.zero_grad()\n",
        "            output = model(data.to(device))\n",
        "            loss = nn.CrossEntropyLoss()(output, target.to(device))\n",
        "            loss.backward()\n",
        "            return loss\n",
        "        optimizer.step(closure)\n",
        "        if batch_idx % 10 == 0:\n",
        "            loss = closure()  # Re-run closure to get loss for printing\n",
        "            print(f'Train Epoch: {epoch} [{batch_idx * len(data)}/{len(train_loader.dataset)} ({100. * batch_idx / len(train_loader):.0f}%)]\\tLoss: {loss.item():.6f}')\n",
        "\n",
        "# Evaluation function\n",
        "def evaluate(model, device, test_loader):\n",
        "    model.eval()\n",
        "    test_loss = 0\n",
        "    correct = 0\n",
        "    with torch.no_grad():\n",
        "        for data, target in test_loader:\n",
        "            data, target = data.to(device), target.to(device)\n",
        "            output = model(data)\n",
        "            test_loss += nn.CrossEntropyLoss()(output, target).item()\n",
        "            pred = output.argmax(dim=1, keepdim=True)\n",
        "            correct += pred.eq(target.view_as(pred)).sum().item()\n",
        "    test_loss /= len(test_loader.dataset)\n",
        "    print(f'\\nTest set: Average loss: {test_loss:.4f}, Accuracy: {correct}/{len(test_loader.dataset)} ({100. * correct / len(test_loader.dataset):.0f}%)\\n')\n",
        "\n",
        "# Running training and evaluation\n",
        "for epoch in range(0, 1):\n",
        "    train(model, device, train_loader, optimizer, epoch)\n",
        "evaluate(model, device, test_loader)\n"
      ]
    }
  ]
}